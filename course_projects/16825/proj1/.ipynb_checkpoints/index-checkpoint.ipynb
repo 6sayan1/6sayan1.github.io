{
 "cells": [
  {
   "cell_type": "markdown",
   "id": "390401ee",
   "metadata": {},
   "source": [
    "# 16-889 Assignment 1: Rendering Basics with PyTorch3D"
   ]
  },
  {
   "cell_type": "markdown",
   "id": "fba6fe5f",
   "metadata": {},
   "source": [
    "#### Sayan Mondal"
   ]
  },
  {
   "cell_type": "markdown",
   "id": "d6f3cd16",
   "metadata": {},
   "source": [
    "Goals: In this assignment, you will learn the basics of rendering with PyTorch3D,\n",
    "explore 3D representations, and practice constructing simple geometry.\n",
    "\n",
    "You may find it also helpful to follow the [Pytorch3D tutorials](https://github.com/facebookresearch/pytorch3d)."
   ]
  },
  {
   "cell_type": "markdown",
   "id": "c5c1dabe",
   "metadata": {},
   "source": [
    "# Number of late days used"
   ]
  },
  {
   "cell_type": "markdown",
   "id": "8fc565e5",
   "metadata": {},
   "source": [
    "![Late days](data/zero.png) "
   ]
  },
  {
   "cell_type": "markdown",
   "id": "201bc989",
   "metadata": {},
   "source": [
    "## 1. Practicing with Cameras"
   ]
  },
  {
   "cell_type": "markdown",
   "id": "9ef16f3a",
   "metadata": {},
   "source": [
    "### 1.1. 360-degree Renders (5 points)"
   ]
  },
  {
   "cell_type": "markdown",
   "id": "1fc091f3",
   "metadata": {},
   "source": [
    "**On your webpage, you should include a gif that shows the cow mesh from many\n",
    "continously changing viewpoints.**"
   ]
  },
  {
   "cell_type": "markdown",
   "id": "e5c1c105",
   "metadata": {},
   "source": [
    "![Cow render 360](data/cow_360.gif)"
   ]
  },
  {
   "cell_type": "markdown",
   "id": "28a08e68",
   "metadata": {},
   "source": [
    "### 1.2 Re-creating the Dolly Zoom (10 points)"
   ]
  },
  {
   "cell_type": "markdown",
   "id": "5279fe43",
   "metadata": {},
   "source": [
    "**On your webpage, include a gif with your dolly zoom effect.**"
   ]
  },
  {
   "cell_type": "markdown",
   "id": "dbc28877",
   "metadata": {},
   "source": [
    "![Cow Dolly](data/dolly.gif)"
   ]
  },
  {
   "cell_type": "markdown",
   "id": "264e6b1f",
   "metadata": {},
   "source": [
    "## 2. Practicing with Meshes "
   ]
  },
  {
   "cell_type": "markdown",
   "id": "4e616cf7",
   "metadata": {},
   "source": [
    "### 2.1 Constructing a Tetrahedron (5 points)"
   ]
  },
  {
   "cell_type": "markdown",
   "id": "0ce99e68",
   "metadata": {},
   "source": [
    "**On your webpage, show a 360-degree gif animation of your tetrahedron.\n",
    "Also, list how many vertices and (triangle) faces your mesh should have.**"
   ]
  },
  {
   "cell_type": "markdown",
   "id": "8d2a3685",
   "metadata": {},
   "source": [
    "![Tetrahedron 360](data/tetrahedron_360.gif)"
   ]
  },
  {
   "cell_type": "markdown",
   "id": "ea588376",
   "metadata": {},
   "source": [
    "There should be **4** vertices and **4** (triangle) faces."
   ]
  },
  {
   "cell_type": "markdown",
   "id": "9779b054",
   "metadata": {},
   "source": [
    "vertices = torch.tensor([[math.sqrt(3),-1.5,-1],[0,-1.2,2],[-math.sqrt(3),-1,-1],[0,2.5,0]])\n",
    "<br>\n",
    "faces = torch.tensor([[1,0,3],[3,2,1],[0,2,3],[0,1,2]]) "
   ]
  },
  {
   "cell_type": "markdown",
   "id": "f26d3d81",
   "metadata": {},
   "source": [
    "### 2.2 Constructing a Cube (5 points)"
   ]
  },
  {
   "cell_type": "markdown",
   "id": "815866f0",
   "metadata": {},
   "source": [
    "**On your webpage, show a 360-degree gif animation of your cube.\n",
    "Also, list how many vertices and (triangle) faces your mesh should have.**"
   ]
  },
  {
   "cell_type": "markdown",
   "id": "32e72a71",
   "metadata": {},
   "source": [
    "![Cube 360](data/cube_360.gif)"
   ]
  },
  {
   "cell_type": "markdown",
   "id": "4e63b561",
   "metadata": {},
   "source": [
    "There should be **8** vertices and **12** (triangle) faces."
   ]
  },
  {
   "cell_type": "markdown",
   "id": "381eaf19",
   "metadata": {},
   "source": [
    " vertices = torch.tensor([[1,-1,1],[1,-1,-1],[-1,-1,-1],[-1,-1,1], [1,1,1],[1,1,-1],[-1,1,-1],[-1,1.,1.]])\n",
    " <br>\n",
    " faces = torch.tensor([[1,0,2],[0,3,2],[2,3,6],[7,6,3],[1,4,0],[1,5,4],[1,2,6],[1,6,5],[0,4,7],[0,7,3],[4,5,7],[4,6,7],])"
   ]
  },
  {
   "cell_type": "markdown",
   "id": "0a51c9d7",
   "metadata": {},
   "source": [
    "## 3. Re-texturing a mesh (10 points)"
   ]
  },
  {
   "cell_type": "markdown",
   "id": "ac5cd4b2",
   "metadata": {},
   "source": [
    "**In your submission, describe your choice of `color1` and `color2`, and include a gif of the\n",
    "rendered mesh.**"
   ]
  },
  {
   "cell_type": "markdown",
   "id": "97224f2b",
   "metadata": {},
   "source": [
    "![Cow render retextured](data/cow_rendered_retextured_360.gif)"
   ]
  },
  {
   "cell_type": "markdown",
   "id": "597e0793",
   "metadata": {},
   "source": [
    "Choice of `color1` and `color2`:"
   ]
  },
  {
   "cell_type": "markdown",
   "id": "5eed8cfb",
   "metadata": {},
   "source": [
    "color1 = torch.tensor([0,0,1]) # blue <br>\n",
    "color2 = torch.tensor([1,0,0]) # red"
   ]
  },
  {
   "cell_type": "markdown",
   "id": "9ffb371d",
   "metadata": {},
   "source": [
    "## 4. Camera Transformations (10 points)"
   ]
  },
  {
   "cell_type": "markdown",
   "id": "92b6e3e3",
   "metadata": {},
   "source": [
    "**In your report, describe in words what R_relative and T_relative should be doing\n",
    "and include the rendering produced by your choice of R_relative and T_relative.**\n"
   ]
  },
  {
   "cell_type": "markdown",
   "id": "087eae3b",
   "metadata": {},
   "source": [
    "**R_relative** is the rotation matrix of the initial camera coordinate system with respect to the new camera coordinate system. <br>\n",
    "\n",
    "**T_relative** is the translation of the initial camera coordinate system's origin with respect to the new camera coordinate system's origin."
   ]
  },
  {
   "cell_type": "markdown",
   "id": "7445e227",
   "metadata": {},
   "source": [
    "R_relative=[[0, -1, 0], [1, 0, 0], [0, 0, 1]] <br>\n",
    "T_relative=[0, 0, 0]"
   ]
  },
  {
   "cell_type": "markdown",
   "id": "f426605c",
   "metadata": {},
   "source": [
    "![Cow transform1](data/transform_cow_4.jpg)"
   ]
  },
  {
   "cell_type": "markdown",
   "id": "773826c8",
   "metadata": {},
   "source": [
    "R_relative=[[1, 0, 0], [0, 1, 0], [0, 0, 1]] <br>\n",
    "T_relative =[0,0,1.5] "
   ]
  },
  {
   "cell_type": "markdown",
   "id": "60cfd399",
   "metadata": {},
   "source": [
    "![Cow transform2](data/transform_cow_4b.jpg)"
   ]
  },
  {
   "cell_type": "markdown",
   "id": "e641ddad",
   "metadata": {},
   "source": [
    "R_relative=[[1, 0, 0], [0, 1, 0], [0, 0, 1]] <br>\n",
    "T_relative=[0.55, -0.4, 0]"
   ]
  },
  {
   "cell_type": "markdown",
   "id": "08605219",
   "metadata": {},
   "source": [
    "![Cow transform3](data/transform_cow_4c.jpg)"
   ]
  },
  {
   "cell_type": "markdown",
   "id": "0c6d3a9d",
   "metadata": {},
   "source": [
    "rotate_angle = -90. / 180. * math.pi <br>\n",
    "R_relative=[math.cos(rotate_angle), 0, math.sin(rotate_angle)], [0, 1, 0], [-math.sin(rotate_angle), 0, math.cos(rotate_angle)]  <br>\n",
    "T_relative=[3., 0, 3]"
   ]
  },
  {
   "cell_type": "markdown",
   "id": "f2fa83b0",
   "metadata": {},
   "source": [
    "![Cow transform4](data/transform_cow_4d.jpg)"
   ]
  },
  {
   "cell_type": "markdown",
   "id": "94046481",
   "metadata": {},
   "source": [
    "## 5. Rendering Generic 3D Representations "
   ]
  },
  {
   "cell_type": "markdown",
   "id": "374b959c",
   "metadata": {},
   "source": [
    "### 5.1 Rendering Point Clouds from RGB-D Images (10 points)"
   ]
  },
  {
   "cell_type": "markdown",
   "id": "82a08131",
   "metadata": {},
   "source": [
    "**In your submission, include a gif of each of these point clouds side-by-side.**"
   ]
  },
  {
   "cell_type": "markdown",
   "id": "56f5e820",
   "metadata": {},
   "source": [
    "The point cloud corresponding to the first image:"
   ]
  },
  {
   "cell_type": "markdown",
   "id": "1b72b80a",
   "metadata": {},
   "source": [
    "![Plant1](data/plant1.gif)"
   ]
  },
  {
   "cell_type": "markdown",
   "id": "53e43ff5",
   "metadata": {},
   "source": [
    "The point cloud corresponding to the second image:"
   ]
  },
  {
   "cell_type": "markdown",
   "id": "928a90d4",
   "metadata": {},
   "source": [
    "![Plant2](data/plant2.gif)"
   ]
  },
  {
   "cell_type": "markdown",
   "id": "cad03336",
   "metadata": {},
   "source": [
    "The point cloud formed by the union of the first 2 point clouds:"
   ]
  },
  {
   "cell_type": "markdown",
   "id": "7fd28608",
   "metadata": {},
   "source": [
    "![Plant12](data/plant12.gif)"
   ]
  },
  {
   "cell_type": "markdown",
   "id": "53f0fbde",
   "metadata": {},
   "source": [
    "### 5.2 Parametric Functions (10 points)"
   ]
  },
  {
   "cell_type": "markdown",
   "id": "6f23697a",
   "metadata": {},
   "source": [
    "**In your writeup, include a 360-degree gif of your torus point cloud, and make sure\n",
    "the hole is visible. You may choose to texture your point cloud however you wish.**"
   ]
  },
  {
   "cell_type": "markdown",
   "id": "674f1df5",
   "metadata": {},
   "source": [
    "![Torus 360](data/torus.gif)"
   ]
  },
  {
   "cell_type": "markdown",
   "id": "8bad18fc",
   "metadata": {},
   "source": [
    "### 5.3 Implicit Surfaces (15 points)"
   ]
  },
  {
   "cell_type": "markdown",
   "id": "042e128c",
   "metadata": {},
   "source": [
    "**In your writeup, include a 360-degree gif of your torus mesh, and make sure the hole\n",
    "is visible. In addition, discuss some of the tradeoffs between rendering as a mesh\n",
    "vs a point cloud. Things to consider might include rendering speed, rendering quality,\n",
    "ease of use, memory usage, etc.**"
   ]
  },
  {
   "cell_type": "markdown",
   "id": "c71e7c20",
   "metadata": {},
   "source": []
  },
  {
   "cell_type": "markdown",
   "id": "7de99e2a",
   "metadata": {},
   "source": [
    "Point cloud is generated by sampling from the parametric functions, it is easy to use. The sampling stage takes O(n) memory to store the points, during generating points, the memory usage depends on the number of parameters in the parametric functions (in torus example we have 2, so O(n^2)).  The rendering quality depends on the density of the points, and it will be sparse all the time, unlike meshes that we can map textures and shadings on.\n",
    "\n",
    "When rendering implicit surfaces (a.k.a, signed distance function), we have to first create a voxel grid which takes O(n^3) space, then use matching cube technique to find out the wanted vertices on the surface and create a mesh. The process would take longer. The visualization is better because of the mesh presentation but the location of vertices are not exactly the position where implicit function = 0. The finer we voxelize, the better results we get."
   ]
  },
  {
   "cell_type": "markdown",
   "id": "c138a788",
   "metadata": {},
   "source": [
    "## 6. Do Something Fun (10 points)"
   ]
  },
  {
   "cell_type": "markdown",
   "id": "1e6ef969",
   "metadata": {},
   "source": [
    "**Include a creative use of the tools in this assignment on your webpage!**\n"
   ]
  },
  {
   "cell_type": "markdown",
   "id": "422a67ef",
   "metadata": {},
   "source": [
    "An areoplane rendered by mesh and given a new colored texture:"
   ]
  },
  {
   "cell_type": "markdown",
   "id": "a2e00d02",
   "metadata": {},
   "source": [
    "![Airplane Naruto](data/airplane_360_gif.gif)"
   ]
  },
  {
   "cell_type": "markdown",
   "id": "260edc7f",
   "metadata": {},
   "source": [
    "## (Extra Credit) 7. Sampling Points on Meshes (10 points)"
   ]
  },
  {
   "cell_type": "markdown",
   "id": "1ba518fc",
   "metadata": {},
   "source": [
    "**You need to provide the following results to get score**\n",
    "1. Render each pointcloud and the original cow mesh side-by-side, and include the gif in your writeup\n",
    "2. Render each pointcloud and the original joint_mesh side-by-side, and include the gif in your writeup"
   ]
  },
  {
   "cell_type": "markdown",
   "id": "2b635bee",
   "metadata": {},
   "source": []
  },
  {
   "cell_type": "markdown",
   "id": "d4573636",
   "metadata": {},
   "source": []
  },
  {
   "cell_type": "markdown",
   "id": "e865a9e1",
   "metadata": {},
   "source": []
  },
  {
   "cell_type": "markdown",
   "id": "8b2b2fda",
   "metadata": {},
   "source": []
  },
  {
   "cell_type": "markdown",
   "id": "1c04e0cf",
   "metadata": {},
   "source": []
  },
  {
   "cell_type": "markdown",
   "id": "1f379f18",
   "metadata": {},
   "source": []
  }
 ],
 "metadata": {
  "kernelspec": {
   "display_name": "Python 3 (ipykernel)",
   "language": "python",
   "name": "python3"
  },
  "language_info": {
   "codemirror_mode": {
    "name": "ipython",
    "version": 3
   },
   "file_extension": ".py",
   "mimetype": "text/x-python",
   "name": "python",
   "nbconvert_exporter": "python",
   "pygments_lexer": "ipython3",
   "version": "3.9.16"
  }
 },
 "nbformat": 4,
 "nbformat_minor": 5
}
